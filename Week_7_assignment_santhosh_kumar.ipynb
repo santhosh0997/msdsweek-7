{
 "cells": [
  {
   "cell_type": "markdown",
   "id": "73fa2b84",
   "metadata": {},
   "source": [
    "# Week 7 Assignment"
   ]
  },
  {
   "cell_type": "markdown",
   "id": "f48ee1c5",
   "metadata": {},
   "source": [
    "This week we are collecting some data from Reddit and doing some basic EDA on it. You should:\n",
    "\n",
    "- create your Reddit account and API keys\n",
    "- collect data from a subreddit of your choice\n",
    "    - at a minimum, collect the posts from the subreddit; optionally collect comments on the posts\n",
    "- save the data to a SQLite3 database\n",
    "- perform some basic EDA on the data\n",
    "    - create at least 2 plots\n",
    "- write a short analysis at the end describing the process and results\n",
    "- turn in the Jupyter Notebook and PDF printout or export to the week 7 dropbox\n",
    "\n",
    "***Optional* advanced section**\n",
    "- Practice SQL queries and select a subsection of the posts you collected\n",
    "- Modify your code to collect data beyond the 1000 item limit\n",
    "- Collect comments from the posts for analysis next week and do some EDA on the comments (e.g. who is the top commenter, which commenters have the most up and down votes or most controversial posts, etc)\n",
    "- examine n-grams ([bigrams](https://stackoverflow.com/a/37651184/4549682), trigrams) or [collocations](https://www.geeksforgeeks.org/nlp-word-collocations/)\n",
    "\n",
    "Note: There is no solution file for this week."
   ]
  },
  {
   "cell_type": "markdown",
   "id": "415442c5-d201-45c3-a232-fddd2a83596b",
   "metadata": {},
   "source": [
    "# Collecting data from Reddit:"
   ]
  },
  {
   "cell_type": "markdown",
   "id": "45932335-acc0-4ee8-ae03-0e347d7218ca",
   "metadata": {},
   "source": [
    "We are collecting social media data from Reddit.An online discussion board founded in 2005 that allows people to post anything and receive comments. Python wrapper for reddit(PRAW) is uses reddit API to  extract data from the reddit. So, we need create the reddit account and  get the API credentials for the account to access data using PRAW. \n",
    "\n",
    "The acquired credentials are stored in credentials.py in the same directory and Fill in the variables in that file with your API credentials before loading it."
   ]
  },
  {
   "cell_type": "code",
   "execution_count": 31,
   "id": "7c87d583",
   "metadata": {},
   "outputs": [],
   "source": [
    "#!pip install praw\n"
   ]
  },
  {
   "cell_type": "markdown",
   "id": "c882f742-2c2b-4b27-b3d1-ea5eae6d3b3d",
   "metadata": {},
   "source": [
    "\n",
    "Installing all the required libraries using import comman.d"
   ]
  },
  {
   "cell_type": "code",
   "execution_count": 32,
   "id": "5f6ed1fd-a12e-48d8-8f16-5028aeb04c1d",
   "metadata": {},
   "outputs": [],
   "source": [
    "import praw\n",
    "import matplotlib.pyplot as plt\n",
    "import credentials\n",
    "import pandas as pd\n",
    "import sqlite3"
   ]
  },
  {
   "cell_type": "markdown",
   "id": "d89cfa05-c753-42a6-9747-20fceb0f6109",
   "metadata": {},
   "source": [
    "We can connect  reddit account with our credentials. We just connect our credentails by importing credentials pyhton file."
   ]
  },
  {
   "cell_type": "code",
   "execution_count": 33,
   "id": "259099c5-7ebb-4453-8ce4-438d1e5917fe",
   "metadata": {},
   "outputs": [],
   "source": [
    "reddit = praw.Reddit(client_id=credentials.client_id,\n",
    "                     client_secret=credentials.client_secret,\n",
    "                     user_agent=credentials.user_agent)"
   ]
  },
  {
   "cell_type": "markdown",
   "id": "4c5fc9c7-dedb-440b-8702-991ffac66b8a",
   "metadata": {},
   "source": [
    "Here, we are choosing 'science' subreddit to collect data and analysing data. It returns the generator object with all the data from 'science' subreddit. "
   ]
  },
  {
   "cell_type": "code",
   "execution_count": 34,
   "id": "c64ba731-beec-44bb-89d6-c80767a685ae",
   "metadata": {},
   "outputs": [],
   "source": [
    "sci_subreddit = reddit.subreddit('science').hot(limit=6)"
   ]
  },
  {
   "cell_type": "code",
   "execution_count": 35,
   "id": "fe2f8bb9-80c8-49a0-b8e2-e5513a6d50bb",
   "metadata": {},
   "outputs": [
    {
     "data": {
      "text/plain": [
       "<praw.models.listing.generator.ListingGenerator at 0x1f42eaae910>"
      ]
     },
     "execution_count": 35,
     "metadata": {},
     "output_type": "execute_result"
    }
   ],
   "source": [
    "sci_subreddit"
   ]
  },
  {
   "cell_type": "markdown",
   "id": "8b5d0161-ccfa-4f4c-8133-3c1646e1a793",
   "metadata": {},
   "source": [
    "title and score are the attributes of every post in subreddit. Title gives the title name of the post and score gives the score of that post. Similarly, for every post has many attributes which gives information of the post."
   ]
  },
  {
   "cell_type": "code",
   "execution_count": 36,
   "id": "4732fe17-f25f-4a58-a6e0-582c255d2a48",
   "metadata": {},
   "outputs": [
    {
     "name": "stdout",
     "output_type": "stream",
     "text": [
      "Artificially sweetened drinks linked to increased risk of irregular heartbeat by up to 20% 1785\n",
      "A 62-year-old male from Germany claims to have received 217 COVID-19 vaccines, of which there is official evidence for 134. A new study of his immune cells suggests they are functioning normally. 3431\n",
      "Adherence to traditional gender roles is associated with a decrease in sexual desire but an increase in frequency of sexual activities. This paradox suggests that traditional gender roles may compel individuals to prioritize the fulfillment of perceived sexual duties over their own sexual desires. 3964\n",
      "Vape use significantly impacts the sleep quality and anxiety levels of young adults (18-25Y) 723\n",
      "Overall speed of speech, rather than the struggle to find words, serves as a more telling indicator of cognitive health. This discovery suggests that slowing down in speech could signal changes in the brain, while difficulties in word retrieval might be a normal aspect of aging. 1648\n",
      "An Australian study has found that a very low proportion of young people who initiate gender-affirming treatment at a gender clinic end up reidentifying back with their birth-registered sex. 304\n"
     ]
    }
   ],
   "source": [
    "for post in sci_subreddit :\n",
    "    print(post.title, post.score)\n",
    "        "
   ]
  },
  {
   "cell_type": "code",
   "execution_count": 37,
   "id": "f41e68ac-c214-4717-8e5e-c1376deccd29",
   "metadata": {},
   "outputs": [
    {
     "data": {
      "text/plain": [
       "[]"
      ]
     },
     "execution_count": 37,
     "metadata": {},
     "output_type": "execute_result"
    }
   ],
   "source": [
    "list(sci_subreddit)"
   ]
  },
  {
   "cell_type": "code",
   "execution_count": 38,
   "id": "ff1d76d3-9687-41b6-949f-7551898ab9ec",
   "metadata": {},
   "outputs": [
    {
     "data": {
      "text/plain": [
       "<praw.models.listing.generator.ListingGenerator at 0x1f42eaae910>"
      ]
     },
     "execution_count": 38,
     "metadata": {},
     "output_type": "execute_result"
    }
   ],
   "source": [
    "sci_subreddit"
   ]
  },
  {
   "cell_type": "markdown",
   "id": "d5b5e38c-ac51-4f5e-b9bc-1ec55ad03ad7",
   "metadata": {},
   "source": [
    "post.num_comments gives the number of comments for that post. "
   ]
  },
  {
   "cell_type": "code",
   "execution_count": 39,
   "id": "769c6dd5-a840-450c-a223-f8d436555728",
   "metadata": {},
   "outputs": [
    {
     "data": {
      "text/plain": [
       "117"
      ]
     },
     "execution_count": 39,
     "metadata": {},
     "output_type": "execute_result"
    }
   ],
   "source": [
    "post.num_comments"
   ]
  },
  {
   "cell_type": "markdown",
   "id": "c602e552-2cbe-4e4c-8231-d18e24a33816",
   "metadata": {},
   "source": [
    "We can get the direct link for accesing  post in reddit by post.permalink . It directly allows to get into the post. "
   ]
  },
  {
   "cell_type": "code",
   "execution_count": 40,
   "id": "72bab4c5-1272-4154-a3b9-da8244c8f28b",
   "metadata": {},
   "outputs": [
    {
     "data": {
      "text/plain": [
       "'/r/science/comments/1b7ewak/an_australian_study_has_found_that_a_very_low/'"
      ]
     },
     "execution_count": 40,
     "metadata": {},
     "output_type": "execute_result"
    }
   ],
   "source": [
    "post.permalink"
   ]
  },
  {
   "cell_type": "markdown",
   "id": "eb5103a5-be31-4862-9e0d-7b63013b2809",
   "metadata": {},
   "source": [
    "score (something like the upvotes minus downvotes), which mainly measures the interests of the users on that post. \"Post.score\" is used to get the score for that post. "
   ]
  },
  {
   "cell_type": "code",
   "execution_count": 41,
   "id": "8cd1d674-c2f7-484b-9f8d-13f51b679924",
   "metadata": {},
   "outputs": [
    {
     "data": {
      "text/plain": [
       "304"
      ]
     },
     "execution_count": 41,
     "metadata": {},
     "output_type": "execute_result"
    }
   ],
   "source": [
    "post.score"
   ]
  },
  {
   "cell_type": "markdown",
   "id": "c8202741-3e62-48aa-bdda-0e22ad929f77",
   "metadata": {},
   "source": [
    "We are interested in title, link, Author, num_comments and score of the 'science' subreddit. We extract the all post data by changing limit= None and storing them as dictionary of lists with keys as interested data."
   ]
  },
  {
   "cell_type": "code",
   "execution_count": 42,
   "id": "8a5986c3-7dce-4864-b23f-2652e676bb4b",
   "metadata": {},
   "outputs": [],
   "source": [
    "reddit_data = {k:[] for k in ['title','link','author','num_comments','score']}\n",
    "\n",
    "sci_subreddit = reddit.subreddit('science').hot(limit=None)\n",
    "\n",
    "for post in list(sci_subreddit):\n",
    "    reddit_data['title'].append(post.title)\n",
    "    reddit_data['link'].append(post.permalink)\n",
    "    if post.author is None:\n",
    "        reddit_data['author'].append('')\n",
    "    else:\n",
    "        reddit_data['author'].append(post.author.name)\n",
    "    \n",
    "    reddit_data['num_comments'].append(post.num_comments)\n",
    "    reddit_data['score'].append(post.score)"
   ]
  },
  {
   "cell_type": "markdown",
   "id": "5a7a265a-80af-4df2-ad4a-5628f47ff949",
   "metadata": {},
   "source": [
    "pandas's DataFrame method allows to convert our data into DataFrame. "
   ]
  },
  {
   "cell_type": "code",
   "execution_count": 43,
   "id": "a093a7c0-03fe-477f-96f5-72a6467d432f",
   "metadata": {},
   "outputs": [],
   "source": [
    "sci_df = pd.DataFrame(reddit_data)"
   ]
  },
  {
   "cell_type": "code",
   "execution_count": 44,
   "id": "578fcbbc-6fca-47df-be34-9388b1a9afc4",
   "metadata": {},
   "outputs": [
    {
     "data": {
      "text/html": [
       "<div>\n",
       "<style scoped>\n",
       "    .dataframe tbody tr th:only-of-type {\n",
       "        vertical-align: middle;\n",
       "    }\n",
       "\n",
       "    .dataframe tbody tr th {\n",
       "        vertical-align: top;\n",
       "    }\n",
       "\n",
       "    .dataframe thead th {\n",
       "        text-align: right;\n",
       "    }\n",
       "</style>\n",
       "<table border=\"1\" class=\"dataframe\">\n",
       "  <thead>\n",
       "    <tr style=\"text-align: right;\">\n",
       "      <th></th>\n",
       "      <th>title</th>\n",
       "      <th>link</th>\n",
       "      <th>author</th>\n",
       "      <th>num_comments</th>\n",
       "      <th>score</th>\n",
       "    </tr>\n",
       "  </thead>\n",
       "  <tbody>\n",
       "    <tr>\n",
       "      <th>0</th>\n",
       "      <td>Artificially sweetened drinks linked to increa...</td>\n",
       "      <td>/r/science/comments/1b7fqsk/artificially_sweet...</td>\n",
       "      <td>elizabeth-cooper</td>\n",
       "      <td>199</td>\n",
       "      <td>1782</td>\n",
       "    </tr>\n",
       "    <tr>\n",
       "      <th>1</th>\n",
       "      <td>A 62-year-old male from Germany claims to have...</td>\n",
       "      <td>/r/science/comments/1b73anb/a_62yearold_male_f...</td>\n",
       "      <td>molrose96</td>\n",
       "      <td>302</td>\n",
       "      <td>3433</td>\n",
       "    </tr>\n",
       "    <tr>\n",
       "      <th>2</th>\n",
       "      <td>Adherence to traditional gender roles is assoc...</td>\n",
       "      <td>/r/science/comments/1b72e2w/adherence_to_tradi...</td>\n",
       "      <td>mvea</td>\n",
       "      <td>341</td>\n",
       "      <td>3965</td>\n",
       "    </tr>\n",
       "    <tr>\n",
       "      <th>3</th>\n",
       "      <td>Vape use significantly impacts the sleep quali...</td>\n",
       "      <td>/r/science/comments/1b7av93/vape_use_significa...</td>\n",
       "      <td>giuliomagnifico</td>\n",
       "      <td>100</td>\n",
       "      <td>728</td>\n",
       "    </tr>\n",
       "    <tr>\n",
       "      <th>4</th>\n",
       "      <td>Overall speed of speech, rather than the strug...</td>\n",
       "      <td>/r/science/comments/1b72fdr/overall_speed_of_s...</td>\n",
       "      <td>mvea</td>\n",
       "      <td>64</td>\n",
       "      <td>1648</td>\n",
       "    </tr>\n",
       "    <tr>\n",
       "      <th>...</th>\n",
       "      <td>...</td>\n",
       "      <td>...</td>\n",
       "      <td>...</td>\n",
       "      <td>...</td>\n",
       "      <td>...</td>\n",
       "    </tr>\n",
       "    <tr>\n",
       "      <th>743</th>\n",
       "      <td>Peale's dolphins (Lagenorhynchus australis) ar...</td>\n",
       "      <td>/r/science/comments/1ahcubx/peales_dolphins_la...</td>\n",
       "      <td>orcinus__orca</td>\n",
       "      <td>1</td>\n",
       "      <td>39</td>\n",
       "    </tr>\n",
       "    <tr>\n",
       "      <th>744</th>\n",
       "      <td>Eradicating animals on the basis that they are...</td>\n",
       "      <td>/r/science/comments/1ah0rc3/eradicating_animal...</td>\n",
       "      <td>Wagamaga</td>\n",
       "      <td>53</td>\n",
       "      <td>195</td>\n",
       "    </tr>\n",
       "    <tr>\n",
       "      <th>745</th>\n",
       "      <td>The rapid decline of certain Indo-Pacific hump...</td>\n",
       "      <td>/r/science/comments/1ah540b/the_rapid_decline_...</td>\n",
       "      <td>orcinus__orca</td>\n",
       "      <td>2</td>\n",
       "      <td>63</td>\n",
       "    </tr>\n",
       "    <tr>\n",
       "      <th>746</th>\n",
       "      <td>The Dangers of Acetaminophen for Neurodevelopm...</td>\n",
       "      <td>/r/science/comments/1ais47e/the_dangers_of_ace...</td>\n",
       "      <td>Future_Class3022</td>\n",
       "      <td>142</td>\n",
       "      <td>0</td>\n",
       "    </tr>\n",
       "    <tr>\n",
       "      <th>747</th>\n",
       "      <td>Compulsory voting can reduce polarization and ...</td>\n",
       "      <td>/r/science/comments/1agfdxz/compulsory_voting_...</td>\n",
       "      <td>smurfyjenkins</td>\n",
       "      <td>369</td>\n",
       "      <td>3263</td>\n",
       "    </tr>\n",
       "  </tbody>\n",
       "</table>\n",
       "<p>748 rows × 5 columns</p>\n",
       "</div>"
      ],
      "text/plain": [
       "                                                 title  \\\n",
       "0    Artificially sweetened drinks linked to increa...   \n",
       "1    A 62-year-old male from Germany claims to have...   \n",
       "2    Adherence to traditional gender roles is assoc...   \n",
       "3    Vape use significantly impacts the sleep quali...   \n",
       "4    Overall speed of speech, rather than the strug...   \n",
       "..                                                 ...   \n",
       "743  Peale's dolphins (Lagenorhynchus australis) ar...   \n",
       "744  Eradicating animals on the basis that they are...   \n",
       "745  The rapid decline of certain Indo-Pacific hump...   \n",
       "746  The Dangers of Acetaminophen for Neurodevelopm...   \n",
       "747  Compulsory voting can reduce polarization and ...   \n",
       "\n",
       "                                                  link            author  \\\n",
       "0    /r/science/comments/1b7fqsk/artificially_sweet...  elizabeth-cooper   \n",
       "1    /r/science/comments/1b73anb/a_62yearold_male_f...         molrose96   \n",
       "2    /r/science/comments/1b72e2w/adherence_to_tradi...              mvea   \n",
       "3    /r/science/comments/1b7av93/vape_use_significa...   giuliomagnifico   \n",
       "4    /r/science/comments/1b72fdr/overall_speed_of_s...              mvea   \n",
       "..                                                 ...               ...   \n",
       "743  /r/science/comments/1ahcubx/peales_dolphins_la...     orcinus__orca   \n",
       "744  /r/science/comments/1ah0rc3/eradicating_animal...          Wagamaga   \n",
       "745  /r/science/comments/1ah540b/the_rapid_decline_...     orcinus__orca   \n",
       "746  /r/science/comments/1ais47e/the_dangers_of_ace...  Future_Class3022   \n",
       "747  /r/science/comments/1agfdxz/compulsory_voting_...     smurfyjenkins   \n",
       "\n",
       "     num_comments  score  \n",
       "0             199   1782  \n",
       "1             302   3433  \n",
       "2             341   3965  \n",
       "3             100    728  \n",
       "4              64   1648  \n",
       "..            ...    ...  \n",
       "743             1     39  \n",
       "744            53    195  \n",
       "745             2     63  \n",
       "746           142      0  \n",
       "747           369   3263  \n",
       "\n",
       "[748 rows x 5 columns]"
      ]
     },
     "execution_count": 44,
     "metadata": {},
     "output_type": "execute_result"
    }
   ],
   "source": [
    "sci_df"
   ]
  },
  {
   "cell_type": "markdown",
   "id": "bc2c469c-870a-4967-ba60-f1b595c35408",
   "metadata": {},
   "source": [
    "# Saving data to SQLite3 Database:"
   ]
  },
  {
   "cell_type": "markdown",
   "id": "89d528e3-c530-4fe1-86d4-4d4a012c4bb9",
   "metadata": {},
   "source": [
    "We can store our collected in our harddisk using Sqlite3. Sqlite3 is built-in with Python, and saves the data to a file on our hard drive. It's easy to use and set up.\n",
    "\n",
    "We store the data by providing exact filpath for stoarage of data. We also required to giev more arguments like table(dataframe), connection and other arguments."
   ]
  },
  {
   "cell_type": "code",
   "execution_count": 45,
   "id": "861af26d-df9f-430f-a085-39fe5d1c3524",
   "metadata": {},
   "outputs": [
    {
     "data": {
      "text/plain": [
       "748"
      ]
     },
     "execution_count": 45,
     "metadata": {},
     "output_type": "execute_result"
    }
   ],
   "source": [
    "connection = sqlite3.connect(\"sci_subreddit_data.sqlite\")\n",
    "sci_df.to_sql('posts', connection, if_exists='replace', index=False)\n"
   ]
  },
  {
   "cell_type": "markdown",
   "id": "797742ba-286a-457c-840f-09e2664dc7eb",
   "metadata": {},
   "source": [
    "We can also check that our data can be load with read_sql_query and giving a query to fetch data. It uses our previous connection to connect to data in th disk. "
   ]
  },
  {
   "cell_type": "code",
   "execution_count": 46,
   "id": "7a6d09c4-d332-4ca1-87df-fd8d98829d27",
   "metadata": {},
   "outputs": [
    {
     "data": {
      "text/html": [
       "<div>\n",
       "<style scoped>\n",
       "    .dataframe tbody tr th:only-of-type {\n",
       "        vertical-align: middle;\n",
       "    }\n",
       "\n",
       "    .dataframe tbody tr th {\n",
       "        vertical-align: top;\n",
       "    }\n",
       "\n",
       "    .dataframe thead th {\n",
       "        text-align: right;\n",
       "    }\n",
       "</style>\n",
       "<table border=\"1\" class=\"dataframe\">\n",
       "  <thead>\n",
       "    <tr style=\"text-align: right;\">\n",
       "      <th></th>\n",
       "      <th>title</th>\n",
       "      <th>link</th>\n",
       "      <th>author</th>\n",
       "      <th>num_comments</th>\n",
       "      <th>score</th>\n",
       "    </tr>\n",
       "  </thead>\n",
       "  <tbody>\n",
       "    <tr>\n",
       "      <th>0</th>\n",
       "      <td>Artificially sweetened drinks linked to increa...</td>\n",
       "      <td>/r/science/comments/1b7fqsk/artificially_sweet...</td>\n",
       "      <td>elizabeth-cooper</td>\n",
       "      <td>199</td>\n",
       "      <td>1782</td>\n",
       "    </tr>\n",
       "    <tr>\n",
       "      <th>1</th>\n",
       "      <td>A 62-year-old male from Germany claims to have...</td>\n",
       "      <td>/r/science/comments/1b73anb/a_62yearold_male_f...</td>\n",
       "      <td>molrose96</td>\n",
       "      <td>302</td>\n",
       "      <td>3433</td>\n",
       "    </tr>\n",
       "    <tr>\n",
       "      <th>2</th>\n",
       "      <td>Adherence to traditional gender roles is assoc...</td>\n",
       "      <td>/r/science/comments/1b72e2w/adherence_to_tradi...</td>\n",
       "      <td>mvea</td>\n",
       "      <td>341</td>\n",
       "      <td>3965</td>\n",
       "    </tr>\n",
       "    <tr>\n",
       "      <th>3</th>\n",
       "      <td>Vape use significantly impacts the sleep quali...</td>\n",
       "      <td>/r/science/comments/1b7av93/vape_use_significa...</td>\n",
       "      <td>giuliomagnifico</td>\n",
       "      <td>100</td>\n",
       "      <td>728</td>\n",
       "    </tr>\n",
       "    <tr>\n",
       "      <th>4</th>\n",
       "      <td>Overall speed of speech, rather than the strug...</td>\n",
       "      <td>/r/science/comments/1b72fdr/overall_speed_of_s...</td>\n",
       "      <td>mvea</td>\n",
       "      <td>64</td>\n",
       "      <td>1648</td>\n",
       "    </tr>\n",
       "    <tr>\n",
       "      <th>...</th>\n",
       "      <td>...</td>\n",
       "      <td>...</td>\n",
       "      <td>...</td>\n",
       "      <td>...</td>\n",
       "      <td>...</td>\n",
       "    </tr>\n",
       "    <tr>\n",
       "      <th>743</th>\n",
       "      <td>Peale's dolphins (Lagenorhynchus australis) ar...</td>\n",
       "      <td>/r/science/comments/1ahcubx/peales_dolphins_la...</td>\n",
       "      <td>orcinus__orca</td>\n",
       "      <td>1</td>\n",
       "      <td>39</td>\n",
       "    </tr>\n",
       "    <tr>\n",
       "      <th>744</th>\n",
       "      <td>Eradicating animals on the basis that they are...</td>\n",
       "      <td>/r/science/comments/1ah0rc3/eradicating_animal...</td>\n",
       "      <td>Wagamaga</td>\n",
       "      <td>53</td>\n",
       "      <td>195</td>\n",
       "    </tr>\n",
       "    <tr>\n",
       "      <th>745</th>\n",
       "      <td>The rapid decline of certain Indo-Pacific hump...</td>\n",
       "      <td>/r/science/comments/1ah540b/the_rapid_decline_...</td>\n",
       "      <td>orcinus__orca</td>\n",
       "      <td>2</td>\n",
       "      <td>63</td>\n",
       "    </tr>\n",
       "    <tr>\n",
       "      <th>746</th>\n",
       "      <td>The Dangers of Acetaminophen for Neurodevelopm...</td>\n",
       "      <td>/r/science/comments/1ais47e/the_dangers_of_ace...</td>\n",
       "      <td>Future_Class3022</td>\n",
       "      <td>142</td>\n",
       "      <td>0</td>\n",
       "    </tr>\n",
       "    <tr>\n",
       "      <th>747</th>\n",
       "      <td>Compulsory voting can reduce polarization and ...</td>\n",
       "      <td>/r/science/comments/1agfdxz/compulsory_voting_...</td>\n",
       "      <td>smurfyjenkins</td>\n",
       "      <td>369</td>\n",
       "      <td>3263</td>\n",
       "    </tr>\n",
       "  </tbody>\n",
       "</table>\n",
       "<p>748 rows × 5 columns</p>\n",
       "</div>"
      ],
      "text/plain": [
       "                                                 title  \\\n",
       "0    Artificially sweetened drinks linked to increa...   \n",
       "1    A 62-year-old male from Germany claims to have...   \n",
       "2    Adherence to traditional gender roles is assoc...   \n",
       "3    Vape use significantly impacts the sleep quali...   \n",
       "4    Overall speed of speech, rather than the strug...   \n",
       "..                                                 ...   \n",
       "743  Peale's dolphins (Lagenorhynchus australis) ar...   \n",
       "744  Eradicating animals on the basis that they are...   \n",
       "745  The rapid decline of certain Indo-Pacific hump...   \n",
       "746  The Dangers of Acetaminophen for Neurodevelopm...   \n",
       "747  Compulsory voting can reduce polarization and ...   \n",
       "\n",
       "                                                  link            author  \\\n",
       "0    /r/science/comments/1b7fqsk/artificially_sweet...  elizabeth-cooper   \n",
       "1    /r/science/comments/1b73anb/a_62yearold_male_f...         molrose96   \n",
       "2    /r/science/comments/1b72e2w/adherence_to_tradi...              mvea   \n",
       "3    /r/science/comments/1b7av93/vape_use_significa...   giuliomagnifico   \n",
       "4    /r/science/comments/1b72fdr/overall_speed_of_s...              mvea   \n",
       "..                                                 ...               ...   \n",
       "743  /r/science/comments/1ahcubx/peales_dolphins_la...     orcinus__orca   \n",
       "744  /r/science/comments/1ah0rc3/eradicating_animal...          Wagamaga   \n",
       "745  /r/science/comments/1ah540b/the_rapid_decline_...     orcinus__orca   \n",
       "746  /r/science/comments/1ais47e/the_dangers_of_ace...  Future_Class3022   \n",
       "747  /r/science/comments/1agfdxz/compulsory_voting_...     smurfyjenkins   \n",
       "\n",
       "     num_comments  score  \n",
       "0             199   1782  \n",
       "1             302   3433  \n",
       "2             341   3965  \n",
       "3             100    728  \n",
       "4              64   1648  \n",
       "..            ...    ...  \n",
       "743             1     39  \n",
       "744            53    195  \n",
       "745             2     63  \n",
       "746           142      0  \n",
       "747           369   3263  \n",
       "\n",
       "[748 rows x 5 columns]"
      ]
     },
     "execution_count": 46,
     "metadata": {},
     "output_type": "execute_result"
    }
   ],
   "source": [
    "sci_df_check = pd.read_sql_query('SELECT * FROM posts;', connection)\n",
    "sci_df_check"
   ]
  },
  {
   "cell_type": "markdown",
   "id": "1a1af348-5a0e-470a-8095-bc1f8868f045",
   "metadata": {},
   "source": [
    "# EDA on subreddit data:"
   ]
  },
  {
   "cell_type": "markdown",
   "id": "92c79b35-4e99-43bf-8032-cc134ee9ca17",
   "metadata": {},
   "source": [
    "We have collected and stored subreddit data in our sqlite database. Now, We try to explore the data.  "
   ]
  },
  {
   "cell_type": "code",
   "execution_count": 47,
   "id": "d4c43fec-d75c-4429-b68c-e79a3efcd563",
   "metadata": {},
   "outputs": [
    {
     "data": {
      "text/plain": [
       "<Axes: xlabel='author'>"
      ]
     },
     "execution_count": 47,
     "metadata": {},
     "output_type": "execute_result"
    },
    {
     "data": {
      "image/png": "[encoded data removed]",
      "text/plain": [
       "<Figure size 640x480 with 1 Axes>"
      ]
     },
     "metadata": {},
     "output_type": "display_data"
    }
   ],
   "source": [
    "sci_df['author'].value_counts()[:20].plot.bar()"
   ]
  },
  {
   "cell_type": "markdown",
   "id": "3b9097c4-bb43-4cb7-9e44-e2f5c2203369",
   "metadata": {},
   "source": [
    "The above plot is bar plot of top 20 authors based on most posts posted in 'science' subreddit data. We observe that 'mvea' posts highest number of posts in science subreedit data.  "
   ]
  },
  {
   "cell_type": "code",
   "execution_count": 48,
   "id": "f15c2eba-20e5-4465-89a6-a1eb78e55bcd",
   "metadata": {},
   "outputs": [
    {
     "data": {
      "text/plain": [
       "<Axes: xlabel='score', ylabel='num_comments'>"
      ]
     },
     "execution_count": 48,
     "metadata": {},
     "output_type": "execute_result"
    },
    {
     "data": {
      "image/png": "[encoded data removed]",
      "text/plain": [
       "<Figure size 640x480 with 1 Axes>"
      ]
     },
     "metadata": {},
     "output_type": "display_data"
    }
   ],
   "source": [
    "sci_df.plot.scatter(x='score', y='num_comments')"
   ]
  },
  {
   "cell_type": "markdown",
   "id": "37ff568b-f1b3-42c4-82e0-8a5ec075d15b",
   "metadata": {},
   "source": [
    "we can see that there is a fairly positive correlation between the score and the quantity of comments. It shows that posts with more likes are used to be more commented by users."
   ]
  },
  {
   "cell_type": "code",
   "execution_count": 49,
   "id": "4997ae90-71b6-42e7-95e8-648a8bc6ccb6",
   "metadata": {},
   "outputs": [
    {
     "data": {
      "text/plain": [
       "<Axes: ylabel='Frequency'>"
      ]
     },
     "execution_count": 49,
     "metadata": {},
     "output_type": "execute_result"
    },
    {
     "data": {
      "image/png": "[encoded data removed]",
      "text/plain": [
       "<Figure size 640x480 with 1 Axes>"
      ]
     },
     "metadata": {},
     "output_type": "display_data"
    }
   ],
   "source": [
    "sci_df['score'].plot.hist(bins=10)"
   ]
  },
  {
   "cell_type": "markdown",
   "id": "7e64f55e-9435-47c5-b40c-0704f64d1e55",
   "metadata": {},
   "source": [
    "The above plot shows the distribution of score of posts in science subreddit.The distribution appears to be rather asymmetrical, with a small number of posts scoring extremely high and many with scores close to 0 ."
   ]
  },
  {
   "cell_type": "markdown",
   "id": "44a0f8b4-c8ba-445a-afd3-7f2d157d893f",
   "metadata": {},
   "source": [
    "# Optional Challenge:"
   ]
  },
  {
   "cell_type": "code",
   "execution_count": 21,
   "id": "d817d577-6cb2-4cd1-bd65-7ff39568941a",
   "metadata": {},
   "outputs": [
    {
     "data": {
      "text/html": [
       "<div>\n",
       "<style scoped>\n",
       "    .dataframe tbody tr th:only-of-type {\n",
       "        vertical-align: middle;\n",
       "    }\n",
       "\n",
       "    .dataframe tbody tr th {\n",
       "        vertical-align: top;\n",
       "    }\n",
       "\n",
       "    .dataframe thead th {\n",
       "        text-align: right;\n",
       "    }\n",
       "</style>\n",
       "<table border=\"1\" class=\"dataframe\">\n",
       "  <thead>\n",
       "    <tr style=\"text-align: right;\">\n",
       "      <th></th>\n",
       "      <th>title</th>\n",
       "      <th>link</th>\n",
       "      <th>author</th>\n",
       "      <th>num_comments</th>\n",
       "      <th>score</th>\n",
       "    </tr>\n",
       "  </thead>\n",
       "  <tbody>\n",
       "    <tr>\n",
       "      <th>0</th>\n",
       "      <td>Adherence to traditional gender roles is assoc...</td>\n",
       "      <td>/r/science/comments/1b72e2w/adherence_to_tradi...</td>\n",
       "      <td>mvea</td>\n",
       "      <td>318</td>\n",
       "      <td>3659</td>\n",
       "    </tr>\n",
       "    <tr>\n",
       "      <th>1</th>\n",
       "      <td>A 62-year-old male from Germany claims to have...</td>\n",
       "      <td>/r/science/comments/1b73anb/a_62yearold_male_f...</td>\n",
       "      <td>molrose96</td>\n",
       "      <td>263</td>\n",
       "      <td>2926</td>\n",
       "    </tr>\n",
       "    <tr>\n",
       "      <th>2</th>\n",
       "      <td>Vape use significantly impacts the sleep quali...</td>\n",
       "      <td>/r/science/comments/1b7av93/vape_use_significa...</td>\n",
       "      <td>giuliomagnifico</td>\n",
       "      <td>72</td>\n",
       "      <td>460</td>\n",
       "    </tr>\n",
       "    <tr>\n",
       "      <th>3</th>\n",
       "      <td>Overall speed of speech, rather than the strug...</td>\n",
       "      <td>/r/science/comments/1b72fdr/overall_speed_of_s...</td>\n",
       "      <td>mvea</td>\n",
       "      <td>53</td>\n",
       "      <td>1458</td>\n",
       "    </tr>\n",
       "    <tr>\n",
       "      <th>4</th>\n",
       "      <td>Researchers develop a model that predicts, wit...</td>\n",
       "      <td>/r/science/comments/1b7685u/researchers_develo...</td>\n",
       "      <td>aurumvexillum</td>\n",
       "      <td>141</td>\n",
       "      <td>696</td>\n",
       "    </tr>\n",
       "    <tr>\n",
       "      <th>...</th>\n",
       "      <td>...</td>\n",
       "      <td>...</td>\n",
       "      <td>...</td>\n",
       "      <td>...</td>\n",
       "      <td>...</td>\n",
       "    </tr>\n",
       "    <tr>\n",
       "      <th>531</th>\n",
       "      <td>Harmful emissions from the industrial sector c...</td>\n",
       "      <td>/r/science/comments/1ah1xpn/harmful_emissions_...</td>\n",
       "      <td>Wagamaga</td>\n",
       "      <td>5</td>\n",
       "      <td>208</td>\n",
       "    </tr>\n",
       "    <tr>\n",
       "      <th>532</th>\n",
       "      <td>Eradicating animals on the basis that they are...</td>\n",
       "      <td>/r/science/comments/1ah0rc3/eradicating_animal...</td>\n",
       "      <td>Wagamaga</td>\n",
       "      <td>53</td>\n",
       "      <td>197</td>\n",
       "    </tr>\n",
       "    <tr>\n",
       "      <th>533</th>\n",
       "      <td>Compulsory voting can reduce polarization and ...</td>\n",
       "      <td>/r/science/comments/1agfdxz/compulsory_voting_...</td>\n",
       "      <td>smurfyjenkins</td>\n",
       "      <td>369</td>\n",
       "      <td>3263</td>\n",
       "    </tr>\n",
       "    <tr>\n",
       "      <th>534</th>\n",
       "      <td>Small, long-nosed dog breeds live longer, stud...</td>\n",
       "      <td>/r/science/comments/1agj5q4/small_longnosed_do...</td>\n",
       "      <td>YoanB</td>\n",
       "      <td>97</td>\n",
       "      <td>1862</td>\n",
       "    </tr>\n",
       "    <tr>\n",
       "      <th>535</th>\n",
       "      <td>A new study may hold a secret for getting your...</td>\n",
       "      <td>/r/science/comments/1ag9qdh/a_new_study_may_ho...</td>\n",
       "      <td>mvea</td>\n",
       "      <td>269</td>\n",
       "      <td>5232</td>\n",
       "    </tr>\n",
       "  </tbody>\n",
       "</table>\n",
       "<p>536 rows × 5 columns</p>\n",
       "</div>"
      ],
      "text/plain": [
       "                                                 title  \\\n",
       "0    Adherence to traditional gender roles is assoc...   \n",
       "1    A 62-year-old male from Germany claims to have...   \n",
       "2    Vape use significantly impacts the sleep quali...   \n",
       "3    Overall speed of speech, rather than the strug...   \n",
       "4    Researchers develop a model that predicts, wit...   \n",
       "..                                                 ...   \n",
       "531  Harmful emissions from the industrial sector c...   \n",
       "532  Eradicating animals on the basis that they are...   \n",
       "533  Compulsory voting can reduce polarization and ...   \n",
       "534  Small, long-nosed dog breeds live longer, stud...   \n",
       "535  A new study may hold a secret for getting your...   \n",
       "\n",
       "                                                  link           author  \\\n",
       "0    /r/science/comments/1b72e2w/adherence_to_tradi...             mvea   \n",
       "1    /r/science/comments/1b73anb/a_62yearold_male_f...        molrose96   \n",
       "2    /r/science/comments/1b7av93/vape_use_significa...  giuliomagnifico   \n",
       "3    /r/science/comments/1b72fdr/overall_speed_of_s...             mvea   \n",
       "4    /r/science/comments/1b7685u/researchers_develo...    aurumvexillum   \n",
       "..                                                 ...              ...   \n",
       "531  /r/science/comments/1ah1xpn/harmful_emissions_...         Wagamaga   \n",
       "532  /r/science/comments/1ah0rc3/eradicating_animal...         Wagamaga   \n",
       "533  /r/science/comments/1agfdxz/compulsory_voting_...    smurfyjenkins   \n",
       "534  /r/science/comments/1agj5q4/small_longnosed_do...            YoanB   \n",
       "535  /r/science/comments/1ag9qdh/a_new_study_may_ho...             mvea   \n",
       "\n",
       "     num_comments  score  \n",
       "0             318   3659  \n",
       "1             263   2926  \n",
       "2              72    460  \n",
       "3              53   1458  \n",
       "4             141    696  \n",
       "..            ...    ...  \n",
       "531             5    208  \n",
       "532            53    197  \n",
       "533           369   3263  \n",
       "534            97   1862  \n",
       "535           269   5232  \n",
       "\n",
       "[536 rows x 5 columns]"
      ]
     },
     "execution_count": 21,
     "metadata": {},
     "output_type": "execute_result"
    }
   ],
   "source": [
    "sci_subsection_df = pd.read_sql_query('SELECT * FROM posts where score > 100;', connection)\n",
    "sci_subsection_df"
   ]
  },
  {
   "cell_type": "code",
   "execution_count": 22,
   "id": "560e22d6-3a97-40dd-a85d-1423a86b2234",
   "metadata": {},
   "outputs": [
    {
     "data": {
      "text/html": [
       "<div>\n",
       "<style scoped>\n",
       "    .dataframe tbody tr th:only-of-type {\n",
       "        vertical-align: middle;\n",
       "    }\n",
       "\n",
       "    .dataframe tbody tr th {\n",
       "        vertical-align: top;\n",
       "    }\n",
       "\n",
       "    .dataframe thead th {\n",
       "        text-align: right;\n",
       "    }\n",
       "</style>\n",
       "<table border=\"1\" class=\"dataframe\">\n",
       "  <thead>\n",
       "    <tr style=\"text-align: right;\">\n",
       "      <th></th>\n",
       "      <th>title</th>\n",
       "      <th>link</th>\n",
       "      <th>author</th>\n",
       "      <th>num_comments</th>\n",
       "      <th>score</th>\n",
       "    </tr>\n",
       "  </thead>\n",
       "  <tbody>\n",
       "    <tr>\n",
       "      <th>0</th>\n",
       "      <td>Adherence to traditional gender roles is assoc...</td>\n",
       "      <td>/r/science/comments/1b72e2w/adherence_to_tradi...</td>\n",
       "      <td>mvea</td>\n",
       "      <td>318</td>\n",
       "      <td>3659</td>\n",
       "    </tr>\n",
       "    <tr>\n",
       "      <th>1</th>\n",
       "      <td>Overall speed of speech, rather than the strug...</td>\n",
       "      <td>/r/science/comments/1b72fdr/overall_speed_of_s...</td>\n",
       "      <td>mvea</td>\n",
       "      <td>53</td>\n",
       "      <td>1458</td>\n",
       "    </tr>\n",
       "    <tr>\n",
       "      <th>2</th>\n",
       "      <td>Islamic and Jewish science merge in 11th-centu...</td>\n",
       "      <td>/r/science/comments/1b72q26/islamic_and_jewish...</td>\n",
       "      <td>mvea</td>\n",
       "      <td>38</td>\n",
       "      <td>731</td>\n",
       "    </tr>\n",
       "    <tr>\n",
       "      <th>3</th>\n",
       "      <td>A person’s diet-related carbon footprint plumm...</td>\n",
       "      <td>/r/science/comments/1b68rb9/a_persons_dietrela...</td>\n",
       "      <td>mvea</td>\n",
       "      <td>1191</td>\n",
       "      <td>5057</td>\n",
       "    </tr>\n",
       "    <tr>\n",
       "      <th>4</th>\n",
       "      <td>Psychopathy is the most significant predictor ...</td>\n",
       "      <td>/r/science/comments/1b68mmd/psychopathy_is_the...</td>\n",
       "      <td>mvea</td>\n",
       "      <td>91</td>\n",
       "      <td>1296</td>\n",
       "    </tr>\n",
       "    <tr>\n",
       "      <th>...</th>\n",
       "      <td>...</td>\n",
       "      <td>...</td>\n",
       "      <td>...</td>\n",
       "      <td>...</td>\n",
       "      <td>...</td>\n",
       "    </tr>\n",
       "    <tr>\n",
       "      <th>91</th>\n",
       "      <td>Scientists have developed the first 3D-printed...</td>\n",
       "      <td>/r/science/comments/1aht4dj/scientists_have_de...</td>\n",
       "      <td>mvea</td>\n",
       "      <td>64</td>\n",
       "      <td>774</td>\n",
       "    </tr>\n",
       "    <tr>\n",
       "      <th>92</th>\n",
       "      <td>Plastic surgeons performed a crowdsourced anal...</td>\n",
       "      <td>/r/science/comments/1ah1wmj/plastic_surgeons_p...</td>\n",
       "      <td>mvea</td>\n",
       "      <td>242</td>\n",
       "      <td>1258</td>\n",
       "    </tr>\n",
       "    <tr>\n",
       "      <th>93</th>\n",
       "      <td>Dating app profiles that show a sense of purpo...</td>\n",
       "      <td>/r/science/comments/1ah1ciq/dating_app_profile...</td>\n",
       "      <td>mvea</td>\n",
       "      <td>108</td>\n",
       "      <td>1223</td>\n",
       "    </tr>\n",
       "    <tr>\n",
       "      <th>94</th>\n",
       "      <td>A rare disorder which causes babies to be born...</td>\n",
       "      <td>/r/science/comments/1ah1etf/a_rare_disorder_wh...</td>\n",
       "      <td>mvea</td>\n",
       "      <td>36</td>\n",
       "      <td>352</td>\n",
       "    </tr>\n",
       "    <tr>\n",
       "      <th>95</th>\n",
       "      <td>A new study may hold a secret for getting your...</td>\n",
       "      <td>/r/science/comments/1ag9qdh/a_new_study_may_ho...</td>\n",
       "      <td>mvea</td>\n",
       "      <td>269</td>\n",
       "      <td>5232</td>\n",
       "    </tr>\n",
       "  </tbody>\n",
       "</table>\n",
       "<p>96 rows × 5 columns</p>\n",
       "</div>"
      ],
      "text/plain": [
       "                                                title  \\\n",
       "0   Adherence to traditional gender roles is assoc...   \n",
       "1   Overall speed of speech, rather than the strug...   \n",
       "2   Islamic and Jewish science merge in 11th-centu...   \n",
       "3   A person’s diet-related carbon footprint plumm...   \n",
       "4   Psychopathy is the most significant predictor ...   \n",
       "..                                                ...   \n",
       "91  Scientists have developed the first 3D-printed...   \n",
       "92  Plastic surgeons performed a crowdsourced anal...   \n",
       "93  Dating app profiles that show a sense of purpo...   \n",
       "94  A rare disorder which causes babies to be born...   \n",
       "95  A new study may hold a secret for getting your...   \n",
       "\n",
       "                                                 link author  num_comments  \\\n",
       "0   /r/science/comments/1b72e2w/adherence_to_tradi...   mvea           318   \n",
       "1   /r/science/comments/1b72fdr/overall_speed_of_s...   mvea            53   \n",
       "2   /r/science/comments/1b72q26/islamic_and_jewish...   mvea            38   \n",
       "3   /r/science/comments/1b68rb9/a_persons_dietrela...   mvea          1191   \n",
       "4   /r/science/comments/1b68mmd/psychopathy_is_the...   mvea            91   \n",
       "..                                                ...    ...           ...   \n",
       "91  /r/science/comments/1aht4dj/scientists_have_de...   mvea            64   \n",
       "92  /r/science/comments/1ah1wmj/plastic_surgeons_p...   mvea           242   \n",
       "93  /r/science/comments/1ah1ciq/dating_app_profile...   mvea           108   \n",
       "94  /r/science/comments/1ah1etf/a_rare_disorder_wh...   mvea            36   \n",
       "95  /r/science/comments/1ag9qdh/a_new_study_may_ho...   mvea           269   \n",
       "\n",
       "    score  \n",
       "0    3659  \n",
       "1    1458  \n",
       "2     731  \n",
       "3    5057  \n",
       "4    1296  \n",
       "..    ...  \n",
       "91    774  \n",
       "92   1258  \n",
       "93   1223  \n",
       "94    352  \n",
       "95   5232  \n",
       "\n",
       "[96 rows x 5 columns]"
      ]
     },
     "execution_count": 22,
     "metadata": {},
     "output_type": "execute_result"
    }
   ],
   "source": [
    "sci_subsection_mvea = pd.read_sql_query(\"SELECT * FROM posts WHERE author = 'mvea'\", connection)\n",
    "sci_subsection_mvea"
   ]
  },
  {
   "cell_type": "code",
   "execution_count": 23,
   "id": "24251695-972f-4665-9c47-91ff0ca8f30f",
   "metadata": {},
   "outputs": [
    {
     "data": {
      "text/html": [
       "<div>\n",
       "<style scoped>\n",
       "    .dataframe tbody tr th:only-of-type {\n",
       "        vertical-align: middle;\n",
       "    }\n",
       "\n",
       "    .dataframe tbody tr th {\n",
       "        vertical-align: top;\n",
       "    }\n",
       "\n",
       "    .dataframe thead th {\n",
       "        text-align: right;\n",
       "    }\n",
       "</style>\n",
       "<table border=\"1\" class=\"dataframe\">\n",
       "  <thead>\n",
       "    <tr style=\"text-align: right;\">\n",
       "      <th></th>\n",
       "      <th>Title</th>\n",
       "      <th>Author</th>\n",
       "      <th>Score</th>\n",
       "      <th>Num_Comments</th>\n",
       "      <th>URL</th>\n",
       "    </tr>\n",
       "  </thead>\n",
       "  <tbody>\n",
       "    <tr>\n",
       "      <th>0</th>\n",
       "      <td>Interesting cloud patterns over New Delhi today</td>\n",
       "      <td>pehelwan</td>\n",
       "      <td>24</td>\n",
       "      <td>4</td>\n",
       "      <td>https://www.reddit.com/gallery/1b73m59</td>\n",
       "    </tr>\n",
       "    <tr>\n",
       "      <th>1</th>\n",
       "      <td>What is going on to prevent rain from hitting ...</td>\n",
       "      <td>stopthefireworks</td>\n",
       "      <td>9</td>\n",
       "      <td>5</td>\n",
       "      <td>https://i.redd.it/kqeg74lzejmc1.png</td>\n",
       "    </tr>\n",
       "    <tr>\n",
       "      <th>2</th>\n",
       "      <td>Kelvin-Helmholtz clouds, west of Frederick, MD...</td>\n",
       "      <td>musicmunky</td>\n",
       "      <td>290</td>\n",
       "      <td>10</td>\n",
       "      <td>https://i.redd.it/y8xxlybfwbmc1.jpeg</td>\n",
       "    </tr>\n",
       "    <tr>\n",
       "      <th>3</th>\n",
       "      <td>Southern Wisconsin Tornado and Severe Weather ...</td>\n",
       "      <td>weathermanWill</td>\n",
       "      <td>2</td>\n",
       "      <td>0</td>\n",
       "      <td>https://youtu.be/-84NIv_YJZY</td>\n",
       "    </tr>\n",
       "    <tr>\n",
       "      <th>4</th>\n",
       "      <td>March 4, 2024 Lightning</td>\n",
       "      <td>MunzlingerWX</td>\n",
       "      <td>1</td>\n",
       "      <td>0</td>\n",
       "      <td>https://youtu.be/tetG5AFLL8c?si=-4RtQ1MluB7sTWEK</td>\n",
       "    </tr>\n",
       "    <tr>\n",
       "      <th>...</th>\n",
       "      <td>...</td>\n",
       "      <td>...</td>\n",
       "      <td>...</td>\n",
       "      <td>...</td>\n",
       "      <td>...</td>\n",
       "    </tr>\n",
       "    <tr>\n",
       "      <th>795</th>\n",
       "      <td>Winter Storm Wallops the U.S.</td>\n",
       "      <td>Galileos_grandson</td>\n",
       "      <td>3</td>\n",
       "      <td>0</td>\n",
       "      <td>https://earthobservatory.nasa.gov/images/15230...</td>\n",
       "    </tr>\n",
       "    <tr>\n",
       "      <th>796</th>\n",
       "      <td>NWS just updated the day 3 outlook… its now a ...</td>\n",
       "      <td>FinlandBall1939</td>\n",
       "      <td>70</td>\n",
       "      <td>20</td>\n",
       "      <td>https://www.reddit.com/gallery/19346zu</td>\n",
       "    </tr>\n",
       "    <tr>\n",
       "      <th>797</th>\n",
       "      <td>Sky in Georgia yesterday after the storm passed</td>\n",
       "      <td>Particular-Carob-490</td>\n",
       "      <td>13</td>\n",
       "      <td>1</td>\n",
       "      <td>https://v.redd.it/3f6fjqpkvmbc1</td>\n",
       "    </tr>\n",
       "    <tr>\n",
       "      <th>798</th>\n",
       "      <td>Unbelievable tornado across the water just bef...</td>\n",
       "      <td>NoWinner4599</td>\n",
       "      <td>8</td>\n",
       "      <td>0</td>\n",
       "      <td>https://i.redd.it/2e4md9y52nbc1.jpeg</td>\n",
       "    </tr>\n",
       "    <tr>\n",
       "      <th>799</th>\n",
       "      <td>The Great Greensboro, Maryland Flood of Januar...</td>\n",
       "      <td>ravens326</td>\n",
       "      <td>4</td>\n",
       "      <td>0</td>\n",
       "      <td>https://youtu.be/AIi9GmBDcV0?si=qhnEAUovJNc8b__k</td>\n",
       "    </tr>\n",
       "  </tbody>\n",
       "</table>\n",
       "<p>800 rows × 5 columns</p>\n",
       "</div>"
      ],
      "text/plain": [
       "                                                 Title                Author  \\\n",
       "0      Interesting cloud patterns over New Delhi today              pehelwan   \n",
       "1    What is going on to prevent rain from hitting ...      stopthefireworks   \n",
       "2    Kelvin-Helmholtz clouds, west of Frederick, MD...            musicmunky   \n",
       "3    Southern Wisconsin Tornado and Severe Weather ...        weathermanWill   \n",
       "4                              March 4, 2024 Lightning          MunzlingerWX   \n",
       "..                                                 ...                   ...   \n",
       "795                      Winter Storm Wallops the U.S.     Galileos_grandson   \n",
       "796  NWS just updated the day 3 outlook… its now a ...       FinlandBall1939   \n",
       "797    Sky in Georgia yesterday after the storm passed  Particular-Carob-490   \n",
       "798  Unbelievable tornado across the water just bef...          NoWinner4599   \n",
       "799  The Great Greensboro, Maryland Flood of Januar...             ravens326   \n",
       "\n",
       "     Score  Num_Comments                                                URL  \n",
       "0       24             4             https://www.reddit.com/gallery/1b73m59  \n",
       "1        9             5                https://i.redd.it/kqeg74lzejmc1.png  \n",
       "2      290            10               https://i.redd.it/y8xxlybfwbmc1.jpeg  \n",
       "3        2             0                       https://youtu.be/-84NIv_YJZY  \n",
       "4        1             0   https://youtu.be/tetG5AFLL8c?si=-4RtQ1MluB7sTWEK  \n",
       "..     ...           ...                                                ...  \n",
       "795      3             0  https://earthobservatory.nasa.gov/images/15230...  \n",
       "796     70            20             https://www.reddit.com/gallery/19346zu  \n",
       "797     13             1                    https://v.redd.it/3f6fjqpkvmbc1  \n",
       "798      8             0               https://i.redd.it/2e4md9y52nbc1.jpeg  \n",
       "799      4             0   https://youtu.be/AIi9GmBDcV0?si=qhnEAUovJNc8b__k  \n",
       "\n",
       "[800 rows x 5 columns]"
      ]
     },
     "execution_count": 23,
     "metadata": {},
     "output_type": "execute_result"
    }
   ],
   "source": [
    "import praw\n",
    "import sqlite3\n",
    "import pandas as pd\n",
    "reddit = praw.Reddit(client_id=credentials.client_id,\n",
    "                     client_secret=credentials.client_secret,\n",
    "                     user_agent=credentials.user_agent)\n",
    "subreddit = reddit.subreddit('weather')\n",
    "post_data = []\n",
    "after = None\n",
    "num_items_to_collect = 800\n",
    "while len(post_data) < num_items_to_collect:\n",
    "    sci_subreddit = subreddit.hot(limit=None, params={'after': after})\n",
    "    for post in sci_subreddit:\n",
    "        if post.author == None:\n",
    "            post_author = ' '\n",
    "        else:\n",
    "            post_author = post.author.name\n",
    "        post_data.append([post.title, post_author, post.score, post.num_comments, post.url])\n",
    "        after = post.name\n",
    "        if len(post_data) >= num_items_to_collect:\n",
    "            break\n",
    "columns = ['Title', 'Author', 'Score', 'Num_Comments', 'URL']\n",
    "df = pd.DataFrame(post_data, columns=columns)\n",
    "df"
   ]
  },
  {
   "cell_type": "markdown",
   "id": "ec5fce48",
   "metadata": {},
   "source": [
    "# Analysis/ Summary:"
   ]
  },
  {
   "cell_type": "markdown",
   "id": "e4a312f1-906e-4d16-8283-ed4a14a2e235",
   "metadata": {},
   "source": [
    "The aim of this assignment to collect social media from reddit and do some exploratory data analysis on it.Python wrapper for reddit(PRAW) which uses reddit API to  extract data from the reddit. So, we need create the reddit account and  get the API credentials for the account to access data using PRAW. we stored our credentials in credentials.py in the same directory and filled in the variables in that file with your API credentials before loading it. We collected the 'science' data from the reddit using our credentials and it returns our  as a generator in default. We took the last post from the data and found some attributes of the post. Later, we converted the entire data into dataframe and stored as sci_df.\n",
    "\n",
    "  We can store our collected in our localdisk using Sqlite3. Sqlite3 is built-in with Python, and saves the data to a file on our hard drive. It's easy to use and set up. We stored the data  as \"Posts\" in our harddisk by giving filePath .Then, we confirmed that stored data can be loaded and retrived using same connection to file using sqlite3. We have collected and stored subreddit data in our sqlite database. Later, we plotted a bar plot of top 20 authors based on most posts posted in 'science' subreddit data. We observe that 'mvea' posts highest number of posts in science subreedit data. And also plotted sacterr plot between score and number of comments, we can see that there is a fairly positive correlation between the score and the quantity of comments. It shows that posts with more likes are used to be more commented by users. Finally, we  plotted histogram shows the distribution of score of posts in \"science\" subreddit.The distribution appears to be rather asymmetrical, with a small number of posts scoring extremely high and many with scores close to 0 .\n",
    "\n",
    "  "
   ]
  }
 ],
 "metadata": {
  "kernelspec": {
   "display_name": "Python 3 (ipykernel)",
   "language": "python",
   "name": "python3"
  },
  "language_info": {
   "codemirror_mode": {
    "name": "ipython",
    "version": 3
   },
   "file_extension": ".py",
   "mimetype": "text/x-python",
   "name": "python",
   "nbconvert_exporter": "python",
   "pygments_lexer": "ipython3",
   "version": "3.11.5"
  }
 },
 "nbformat": 4,
 "nbformat_minor": 5
}
